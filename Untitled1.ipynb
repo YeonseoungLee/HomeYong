{
 "cells": [
  {
   "cell_type": "code",
   "execution_count": 1,
   "metadata": {},
   "outputs": [
    {
     "name": "stdout",
     "output_type": "stream",
     "text": [
      "4\n",
      "4 -4\n"
     ]
    }
   ],
   "source": [
    "x=20\n",
    "y=4\n",
    "\n",
    "x=y%x\n",
    "print(x)\n",
    "\n",
    "y-=x*2\n",
    "print(x,y)"
   ]
  },
  {
   "cell_type": "code",
   "execution_count": 2,
   "metadata": {},
   "outputs": [
    {
     "ename": "SyntaxError",
     "evalue": "unmatched ')' (<ipython-input-2-10b486db383a>, line 3)",
     "output_type": "error",
     "traceback": [
      "\u001b[1;36m  File \u001b[1;32m\"<ipython-input-2-10b486db383a>\"\u001b[1;36m, line \u001b[1;32m3\u001b[0m\n\u001b[1;33m    eng = type('85 :')) math\u001b[0m\n\u001b[1;37m                      ^\u001b[0m\n\u001b[1;31mSyntaxError\u001b[0m\u001b[1;31m:\u001b[0m unmatched ')'\n"
     ]
    }
   ],
   "source": [
    "name = input('황예린 :')\n",
    "kor = type(input('83 :'))\n",
    "eng = type('85 :')) math\n",
    "= type(input('91 :'))\n",
    "total = kor + eng + math\n",
    "avg = total / 3\n",
    "print('이름: 황예린, 국어:%d, 영어:%d,수학:%d, 평균:%.1f\n",
    "점' % (name, kor, eng, math, avg)"
   ]
  },
  {
   "cell_type": "code",
   "execution_count": null,
   "metadata": {},
   "outputs": [],
   "source": []
  },
  {
   "cell_type": "code",
   "execution_count": 6,
   "metadata": {},
   "outputs": [
    {
     "ename": "SyntaxError",
     "evalue": "invalid syntax (<ipython-input-6-0c535d53b548>, line 4)",
     "output_type": "error",
     "traceback": [
      "\u001b[1;36m  File \u001b[1;32m\"<ipython-input-6-0c535d53b548>\"\u001b[1;36m, line \u001b[1;32m4\u001b[0m\n\u001b[1;33m    = print(input('91 :'))\u001b[0m\n\u001b[1;37m    ^\u001b[0m\n\u001b[1;31mSyntaxError\u001b[0m\u001b[1;31m:\u001b[0m invalid syntax\n"
     ]
    }
   ],
   "source": [
    "name = input('황예린 :')\n",
    "kor = print(input('83 :'))\n",
    "eng = print(input('85 :')), math\n",
    "= print(input('91 :'))\n",
    "total = kor + eng + math\n",
    "avg = total / 3\n",
    "print('이름: 황예린, 국어:%d, 영어:%d,수학:%d, 평균:%.1f\n",
    "점' % (name, kor, eng, math, avg)"
   ]
  }
 ],
 "metadata": {
  "kernelspec": {
   "display_name": "Python 3",
   "language": "python",
   "name": "python3"
  },
  "language_info": {
   "codemirror_mode": {
    "name": "ipython",
    "version": 3
   },
   "file_extension": ".py",
   "mimetype": "text/x-python",
   "name": "python",
   "nbconvert_exporter": "python",
   "pygments_lexer": "ipython3",
   "version": "3.8.3"
  }
 },
 "nbformat": 4,
 "nbformat_minor": 4
}
